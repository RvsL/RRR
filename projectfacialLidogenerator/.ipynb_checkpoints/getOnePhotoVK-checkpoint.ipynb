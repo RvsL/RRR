{
 "cells": [
  {
   "cell_type": "code",
   "execution_count": 1,
   "metadata": {
    "collapsed": false
   },
   "outputs": [],
   "source": [
    "from shutil import copyfile\n",
    "import datetime\n",
    "from getpass import getpass\n",
    "import os\n",
    "import time\n",
    "import sys\n",
    "import json\n",
    "\n",
    "try:\n",
    "    import requests\n",
    "except ImportError:\n",
    "    print(\"Cannot find 'requests' module. Please install it and try again.\")\n",
    "    sys.exit(0)\n",
    "\n",
    "try:\n",
    "    from vk_api import VkApi\n",
    "except ImportError:\n",
    "    print(\"Cannot find 'vk_api' module. Please install it and try again.\")\n",
    "    sys.exit(0)\n"
   ]
  },
  {
   "cell_type": "code",
   "execution_count": 2,
   "metadata": {
    "collapsed": false
   },
   "outputs": [],
   "source": [
    "login = \"RvsdL@bk.ru\"\n",
    "password = \"SargeVKONTAKTE\"\n",
    "connection = VkApi(login, password)"
   ]
  },
  {
   "cell_type": "code",
   "execution_count": 11,
   "metadata": {
    "collapsed": false
   },
   "outputs": [
    {
     "name": "stdout",
     "output_type": "stream",
     "text": [
      "[{u'first_name': u'\\u041c\\u0430\\u0440\\u0438\\u043d\\u0430', u'last_name': u'\\u0417\\u0430\\u0442\\u043e\\u043d\\u0441\\u043a\\u0430\\u044f', u'id': 134902425, u'photo_max_orig': u'https://pp.vk.me/c837523/v837523425/180f8/8gEL8HlUUg0.jpg'}]\n"
     ]
    }
   ],
   "source": [
    "avatar = connection.method('users.get', {'user_ids': 134902425,'fields': 'photo_max_orig'})\n",
    "print(avatar)"
   ]
  },
  {
   "cell_type": "code",
   "execution_count": 8,
   "metadata": {
    "collapsed": false
   },
   "outputs": [],
   "source": [
    "url = avatar[0].get('photo_max_orig')"
   ]
  },
  {
   "cell_type": "code",
   "execution_count": 9,
   "metadata": {
    "collapsed": false
   },
   "outputs": [],
   "source": [
    "folder = '/Users/RvsL/python/facialLidogenerator/vkDownloadedAvatars'"
   ]
  },
  {
   "cell_type": "code",
   "execution_count": 10,
   "metadata": {
    "collapsed": false
   },
   "outputs": [
    {
     "name": "stdout",
     "output_type": "stream",
     "text": [
      "ok\n",
      "ok\n",
      "ok\n",
      "ok\n",
      "ok\n",
      "ok\n",
      "ok\n",
      "ok\n",
      "ok\n",
      "ok\n",
      "ok\n",
      "ok\n",
      "ok\n",
      "ok\n",
      "ok\n",
      "ok\n",
      "ok\n",
      "ok\n",
      "ok\n",
      "ok\n",
      "ok\n",
      "ok\n",
      "ok\n",
      "ok\n",
      "ok\n",
      "ok\n",
      "ok\n",
      "ok\n",
      "ok\n",
      "ok\n",
      "ok\n",
      "ok\n",
      "ok\n",
      "ok\n",
      "ok\n",
      "ok\n",
      "ok\n",
      "ok\n",
      "ok\n",
      "ok\n",
      "ok\n",
      "ok\n",
      "ok\n",
      "ok\n",
      "ok\n",
      "ok\n",
      "ok\n",
      "ok\n",
      "ok\n",
      "ok\n",
      "ok\n",
      "ok\n",
      "ok\n",
      "ok\n",
      "ok\n",
      "ok\n",
      "ok\n",
      "ok\n",
      "ok\n",
      "ok\n",
      "ok\n",
      "ok\n",
      "ok\n",
      "ok\n",
      "ok\n",
      "ok\n",
      "ok\n",
      "ok\n",
      "ok\n",
      "ok\n"
     ]
    }
   ],
   "source": [
    "output = folder# + 'b' + '100100628'\n",
    "r = requests.get(url)\n",
    "title = 'b' + '134902425'\n",
    "with open(os.path.join(output, '%s.jpg' % title), 'wb') as f:\n",
    "    for buf in r.iter_content(1024):\n",
    "        if buf: print('ok')\n",
    "        else: print('oops!')\n"
   ]
  },
  {
   "cell_type": "code",
   "execution_count": 14,
   "metadata": {
    "collapsed": false
   },
   "outputs": [
    {
     "data": {
      "text/plain": [
       "4"
      ]
     },
     "execution_count": 14,
     "metadata": {},
     "output_type": "execute_result"
    }
   ],
   "source": [
    "a = 3\n",
    "if a == 1:\n",
    " if a == 1: a = 2\n",
    "else: a = 4\n",
    "a"
   ]
  },
  {
   "cell_type": "code",
   "execution_count": null,
   "metadata": {
    "collapsed": true
   },
   "outputs": [],
   "source": []
  }
 ],
 "metadata": {
  "kernelspec": {
   "display_name": "Python 2",
   "language": "python",
   "name": "cv"
  },
  "language_info": {
   "codemirror_mode": {
    "name": "ipython",
    "version": 2
   },
   "file_extension": ".py",
   "mimetype": "text/x-python",
   "name": "python",
   "nbconvert_exporter": "python",
   "pygments_lexer": "ipython2",
   "version": "2.7.13"
  }
 },
 "nbformat": 4,
 "nbformat_minor": 2
}
