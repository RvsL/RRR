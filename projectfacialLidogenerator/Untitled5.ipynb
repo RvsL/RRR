{
 "cells": [
  {
   "cell_type": "code",
   "execution_count": 1,
   "metadata": {
    "collapsed": true
   },
   "outputs": [],
   "source": [
    "try:\n",
    "    import requests\n",
    "except ImportError:\n",
    "    print(\"Cannot find 'requests' module. Please install it and try again.\")\n",
    "    sys.exit(0)\n",
    "\n",
    "try:\n",
    "    from vk_api import VkApi\n",
    "except ImportError:\n",
    "    print(\"Cannot find 'vk_api' module. Please install it and try again.\")\n",
    "    sys.exit(0)"
   ]
  },
  {
   "cell_type": "code",
   "execution_count": null,
   "metadata": {
    "collapsed": true
   },
   "outputs": [],
   "source": []
  }
 ],
 "metadata": {
  "kernelspec": {
   "display_name": "Python 2",
   "language": "python",
   "name": "cv"
  },
  "language_info": {
   "codemirror_mode": {
    "name": "ipython",
    "version": 2
   },
   "file_extension": ".py",
   "mimetype": "text/x-python",
   "name": "python",
   "nbconvert_exporter": "python",
   "pygments_lexer": "ipython2",
   "version": "2.7.13"
  }
 },
 "nbformat": 4,
 "nbformat_minor": 2
}
