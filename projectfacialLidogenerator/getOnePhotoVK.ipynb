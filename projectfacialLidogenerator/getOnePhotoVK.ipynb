{
 "cells": [
  {
   "cell_type": "code",
   "execution_count": 8,
   "metadata": {
    "collapsed": false
   },
   "outputs": [],
   "source": [
    "from shutil import copyfile\n",
    "import datetime\n",
    "from getpass import getpass\n",
    "import os\n",
    "import time\n",
    "import sys\n",
    "import json\n",
    "\n",
    "try:\n",
    "    import requests\n",
    "except ImportError:\n",
    "    print(\"Cannot find 'requests' module. Please install it and try again.\")\n",
    "    sys.exit(0)\n",
    "\n",
    "try:\n",
    "    from vk_api import VkApi\n",
    "except ImportError:\n",
    "    print(\"Cannot find 'vk_api' module. Please install it and try again.\")\n",
    "    sys.exit(0)\n"
   ]
  },
  {
   "cell_type": "code",
   "execution_count": 9,
   "metadata": {
    "collapsed": false
   },
   "outputs": [],
   "source": [
    "login = \"RvsdL@bk.ru\"\n",
    "password = \"SargeVKONTAKTE\"\n",
    "connection = VkApi(login, password)"
   ]
  },
  {
   "cell_type": "code",
   "execution_count": 10,
   "metadata": {
    "collapsed": false
   },
   "outputs": [
    {
     "name": "stdout",
     "output_type": "stream",
     "text": [
      "[{u'hidden': 1, u'first_name': u'\\u0410\\u043b\\u0435\\u043a\\u0441\\u0430\\u043d\\u0434\\u0440', u'last_name': u'\\u041a\\u0443\\u0437\\u043d\\u0435\\u0446\\u043e\\u0432', u'id': 134924833, u'photo_max_orig': u'https://pp.vk.me/c626129/v626129833/2f6e5/f5fKJe2HhHI.jpg'}]\n"
     ]
    }
   ],
   "source": [
    "avatar = connection.method('users.get', {'user_ids': 134924833,'fields': 'photo_max_orig'})\n",
    "print(avatar)"
   ]
  },
  {
   "cell_type": "code",
   "execution_count": 11,
   "metadata": {
    "collapsed": false
   },
   "outputs": [],
   "source": [
    "url = avatar[0].get('photo_max_orig')"
   ]
  },
  {
   "cell_type": "code",
   "execution_count": 12,
   "metadata": {
    "collapsed": false
   },
   "outputs": [],
   "source": [
    "folder = '/Users/RvsL/python/facialLidogenerator/vkDownloadedAvatars'"
   ]
  },
  {
   "cell_type": "code",
   "execution_count": 13,
   "metadata": {
    "collapsed": false
   },
   "outputs": [
    {
     "name": "stdout",
     "output_type": "stream",
     "text": [
      "ok\n"
     ]
    }
   ],
   "source": [
    "output = folder# + 'b' + '134924833'\n",
    "r = requests.get(url)\n",
    "title = 'b' + '134902425'\n",
    "with open(os.path.join(output, '%s.jpg' % title), 'wb') as f:\n",
    "    for buf in r.iter_content(1024):\n",
    "        if buf: print('ok')\n",
    "        else: print('oops!')\n"
   ]
  },
  {
   "cell_type": "code",
   "execution_count": 16,
   "metadata": {
    "collapsed": false
   },
   "outputs": [
    {
     "data": {
      "text/plain": [
       "'<Response [502]>'"
      ]
     },
     "execution_count": 16,
     "metadata": {},
     "output_type": "execute_result"
    }
   ],
   "source": [
    "str(r)"
   ]
  },
  {
   "cell_type": "code",
   "execution_count": null,
   "metadata": {
    "collapsed": true
   },
   "outputs": [],
   "source": []
  }
 ],
 "metadata": {
  "kernelspec": {
   "display_name": "Python 2",
   "language": "python",
   "name": "cv"
  },
  "language_info": {
   "codemirror_mode": {
    "name": "ipython",
    "version": 2
   },
   "file_extension": ".py",
   "mimetype": "text/x-python",
   "name": "python",
   "nbconvert_exporter": "python",
   "pygments_lexer": "ipython2",
   "version": "2.7.13"
  }
 },
 "nbformat": 4,
 "nbformat_minor": 2
}
